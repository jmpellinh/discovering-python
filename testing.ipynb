{
 "cells": [
  {
   "cell_type": "code",
   "execution_count": null,
   "metadata": {},
   "outputs": [],
   "source": [
    "grade_number = float(input(\"Grade in number: \"))\n",
    "if grade_number >= 93:\n",
    "    print (\"Letter grade: A\")\n",
    "elif grade_number < 93 and grade_number > 90:\n",
    "    print (\"Letter grade: A-\")\n",
    "elif 88 < grade_number < 90:\n",
    "    print (\"Letter grade: B+\")\n",
    "elif 82 < grade_number < 87:\n",
    "    print (\"Letter grade: B\")\n",
    "elif 79 < grade_number < 83:\n",
    "    print (\"Letter grade: B-\")\n",
    "elif 71 < grade_number < 80:\n",
    "    print (\"Letter grade: C\")\n",
    "elif 65 < grade_number < 70:\n",
    "    print (\"Letter grade: D\")\n",
    "else:\n",
    "    print (\"Failing grade\")"
   ]
  },
  {
   "attachments": {},
   "cell_type": "markdown",
   "metadata": {},
   "source": [
    "### Grading convert from number to letter, based on college \n",
    "#### disclaimer: every school, courses will be different\n",
    "<a href=\"https://bigfuture.collegeboard.org/plan-for-college/college-basics/how-to-convert-gpa-4.0-scale#:~:text=Common%20examples%20of%20grade%20conversion,D%2D%20(below%2065).\">How to Convert Your GPA to a 4.0 Scale</a> "
   ]
  }
 ],
 "metadata": {
  "kernelspec": {
   "display_name": "Python 3",
   "language": "python",
   "name": "python3"
  },
  "language_info": {
   "codemirror_mode": {
    "name": "ipython",
    "version": 3
   },
   "file_extension": ".py",
   "mimetype": "text/x-python",
   "name": "python",
   "nbconvert_exporter": "python",
   "pygments_lexer": "ipython3",
   "version": "3.10.9 (tags/v3.10.9:1dd9be6, Dec  6 2022, 20:01:21) [MSC v.1934 64 bit (AMD64)]"
  },
  "orig_nbformat": 4,
  "vscode": {
   "interpreter": {
    "hash": "e32a4fd8e1fc85919b21094ac79aec2c20a746e05b653f88094899eff29110b0"
   }
  }
 },
 "nbformat": 4,
 "nbformat_minor": 2
}
